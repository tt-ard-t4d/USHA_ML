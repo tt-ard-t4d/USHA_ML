{
 "cells": [
  {
   "cell_type": "markdown",
   "id": "fa0155dc",
   "metadata": {},
   "source": [
    "# image_downloader script\n",
    "This script is used to download and resize images to be used for classification in the 'run_model' script. It is expected that the user has a CSV with image URLs to be downloaded and resized. See project learning brief for more details."
   ]
  },
  {
   "cell_type": "markdown",
   "id": "37268eda",
   "metadata": {},
   "source": [
    "## Import Statements\n",
    "Required packages include: requests, PIL, pandas, os and certifi. Also, warnings are disabled to provide a cleaner output. Then, the root path is set."
   ]
  },
  {
   "cell_type": "code",
   "execution_count": null,
   "id": "5f3afb00",
   "metadata": {},
   "outputs": [],
   "source": [
    "import requests\n",
    "from PIL import Image\n",
    "import pandas as pd\n",
    "import os\n",
    "import certifi\n",
    "from requests.packages.urllib3.exceptions import InsecureRequestWarning\n",
    "\n",
    "requests.packages.urllib3.disable_warnings(InsecureRequestWarning)"
   ]
  },
  {
   "cell_type": "code",
   "execution_count": null,
   "id": "0c85c36a",
   "metadata": {},
   "outputs": [],
   "source": [
    "ROOT = os.path.dirname(__file__)"
   ]
  },
  {
   "cell_type": "markdown",
   "id": "f473709b",
   "metadata": {},
   "source": [
    "## fetch_images Function\n",
    "This is a helper function used in the main image_downloader script. It is passed a list of urls (from the user's CSV, see the project's learning brief for more information), and a destination folder (which will also be used in the run_model script). "
   ]
  },
  {
   "cell_type": "code",
   "execution_count": null,
   "id": "ad195877",
   "metadata": {},
   "outputs": [],
   "source": [
    "def fetch_images(url_list, dest_folder):\n",
    "    for url in url_list:\n",
    "        img_name=url[-17:]\n",
    "        img_path = os.path.join(ROOT,'images',dest_folder,img_name)\n",
    "        if not os.path.exists(img_path):\n",
    "            print('Downloading ' + img_name)\n",
    "            try:\n",
    "                image = Image.open(requests.get(url, stream=True, verify=False).raw)\n",
    "                image = resize(image)\n",
    "                image.save(img_path)\n",
    "            except Exception as e:\n",
    "                print('Error on ' + img_name)\n",
    "                print(e)\n",
    "                pass\n",
    "        else:\n",
    "            print('Skipping ' + img_name)"
   ]
  },
  {
   "cell_type": "markdown",
   "id": "16946023",
   "metadata": {},
   "source": [
    "## resize Function\n",
    "Another helper function for the image_downloader script, used to resize an image to 512x512, in order to save on storage space. "
   ]
  },
  {
   "cell_type": "code",
   "execution_count": null,
   "id": "5ed079aa",
   "metadata": {},
   "outputs": [],
   "source": [
    "def resize(image):\n",
    "    width, height = image.size\n",
    "    if width != height:\n",
    "        square_size = min(width, height)\n",
    "        left = (width - square_size) / 2\n",
    "        top = (height - square_size) / 2\n",
    "        right = (width + square_size) / 2\n",
    "        bottom = (height + square_size) / 2\n",
    "        image = image.crop((left, top, right, bottom))\n",
    "    image_sm = image.resize((512,512))\n",
    "    return image_sm"
   ]
  },
  {
   "cell_type": "markdown",
   "id": "26653fcb",
   "metadata": {},
   "source": [
    "## Main image_downloader script\n",
    "First, the user is prompted for a CSV file, then the column name in that file that contains the image URLS, and finally a destination folder to store the images in. See project learning brief for a detailed explanation of how it expects the CSV file to be set up. "
   ]
  },
  {
   "cell_type": "code",
   "execution_count": null,
   "id": "8a055d71",
   "metadata": {},
   "outputs": [],
   "source": [
    "if __name__ == '__main__':\n",
    "    csv_file = input(\"What is the name of the CSV file, in the CSV folder? \")\n",
    "    col = input('What is the column name of image URLs? ')\n",
    "    dest_folder = input(\"Where would you like to put the images (inside the images folder)? \")\n",
    "\n",
    "    df = pd.read_csv(os.path.join(ROOT,'csv',csv_file))\n",
    "    df.dropna(axis=0, subset=[col], inplace=True)\n",
    "    urls = list(df[df[col].str.contains('http')][col])\n",
    "    fetch_images(urls, dest_folder)"
   ]
  }
 ],
 "metadata": {
  "kernelspec": {
   "display_name": "Python 3 (ipykernel)",
   "language": "python",
   "name": "python3"
  },
  "language_info": {
   "codemirror_mode": {
    "name": "ipython",
    "version": 3
   },
   "file_extension": ".py",
   "mimetype": "text/x-python",
   "name": "python",
   "nbconvert_exporter": "python",
   "pygments_lexer": "ipython3",
   "version": "3.9.13"
  }
 },
 "nbformat": 4,
 "nbformat_minor": 5
}
