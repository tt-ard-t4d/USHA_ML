{
 "cells": [
  {
   "cell_type": "markdown",
   "id": "e691a53f",
   "metadata": {},
   "source": [
    "# run_model_v2\n",
    "This is a script used to classify images, using Tensorflow 'floor' models exported from Lobe.ai. See learning brief for more details about the project and what is expected to be able to run this script effectively. "
   ]
  },
  {
   "cell_type": "markdown",
   "id": "f17ab1d0",
   "metadata": {},
   "source": [
    "## File and Folder Structure"
   ]
  },
  {
   "cell_type": "markdown",
   "id": "0a2b5523",
   "metadata": {},
   "source": [
    "Create a permanent folder on your hard drive which will serve as your base folder for the model, add the following subfolders and scripts to this base folder:\n",
    "Subfolders:\n",
    "1.\tcsv - to store the CSV exports from Ona\n",
    "2.\timages – subfolders for each region can be created under this folder; this is where the model will store downloaded images\n",
    "3.\tmodels – stores the Lobe models\n",
    "4.\toutputs – model outputs are placed here (CSV format)\n",
    "5.\tsrc – extra code files\n",
    "Scripts:\n",
    "1.\timage_downloader.py – this script will download batches of images from Ona, and shrink/resize them for the model\n",
    "2.\trun_model.py – this script runs on a folder of images for the selected model (door, floor, structure), leverages the TensorFlow model, and outputs classifications"
   ]
  },
  {
   "cell_type": "markdown",
   "id": "f1ac5b72",
   "metadata": {},
   "source": [
    "## Import Statements\n",
    "\n",
    "The following block contains import statements. Required packages include pandas, os, PIL, sys, and time. Note that 'src' is the source folder set up in the same directory, NOT a downloaded package. This will confirm that folders are set up correctly as well. User must set line 5 in ths block their own base folder for this project."
   ]
  },
  {
   "cell_type": "code",
   "execution_count": 1,
   "id": "9dd1b54e",
   "metadata": {},
   "outputs": [
    {
     "ename": "ModuleNotFoundError",
     "evalue": "No module named 'src'",
     "output_type": "error",
     "traceback": [
      "\u001b[1;31m---------------------------------------------------------------------------\u001b[0m",
      "\u001b[1;31mModuleNotFoundError\u001b[0m                       Traceback (most recent call last)",
      "\u001b[1;32mC:\\Users\\LAUREN~1.ALL\\AppData\\Local\\Temp/ipykernel_3712/1507425963.py\u001b[0m in \u001b[0;36m<module>\u001b[1;34m\u001b[0m\n\u001b[0;32m      4\u001b[0m \u001b[1;32mimport\u001b[0m \u001b[0msys\u001b[0m\u001b[1;33m\u001b[0m\u001b[1;33m\u001b[0m\u001b[0m\n\u001b[0;32m      5\u001b[0m \u001b[0msys\u001b[0m\u001b[1;33m.\u001b[0m\u001b[0mpath\u001b[0m\u001b[1;33m.\u001b[0m\u001b[0minsert\u001b[0m\u001b[1;33m(\u001b[0m\u001b[1;36m0\u001b[0m\u001b[1;33m,\u001b[0m \u001b[1;34m\"C:\\\\Users\\\\lauren.allognon\\\\USHA-ML\"\u001b[0m\u001b[1;33m)\u001b[0m \u001b[1;31m#update pathname\u001b[0m\u001b[1;33m\u001b[0m\u001b[1;33m\u001b[0m\u001b[0m\n\u001b[1;32m----> 6\u001b[1;33m \u001b[1;32mfrom\u001b[0m \u001b[0msrc\u001b[0m\u001b[1;33m.\u001b[0m\u001b[0mtf_loader2\u001b[0m \u001b[1;32mimport\u001b[0m \u001b[0mTFModel\u001b[0m\u001b[1;33m\u001b[0m\u001b[1;33m\u001b[0m\u001b[0m\n\u001b[0m\u001b[0;32m      7\u001b[0m \u001b[1;32mimport\u001b[0m \u001b[0mtime\u001b[0m\u001b[1;33m\u001b[0m\u001b[1;33m\u001b[0m\u001b[0m\n",
      "\u001b[1;31mModuleNotFoundError\u001b[0m: No module named 'src'"
     ]
    }
   ],
   "source": [
    "import pandas as pd\n",
    "import os\n",
    "from PIL import Image\n",
    "import sys\n",
    "sys.path.insert(0, \"C:\\\\Users\\\\lauren.allognon\\\\USHA-ML\") #update pathname\n",
    "from src.tf_loader2 import TFModel\n",
    "import time"
   ]
  },
  {
   "cell_type": "code",
   "execution_count": null,
   "id": "90a999e8",
   "metadata": {},
   "outputs": [],
   "source": [
    "#set current directory as root\n",
    "ROOT = os.path.dirname(__file__)"
   ]
  },
  {
   "cell_type": "code",
   "execution_count": null,
   "id": "d17259c2",
   "metadata": {},
   "outputs": [],
   "source": [
    "# run this\n",
    "if __name__ == '__main__':\n",
    "    #get inputs from user\n",
    "    image_dir = input(\"What is the subfolder in images? \")\n",
    "    \n",
    "    #Check if the user has original CSV to merge results with\n",
    "    csv_check = input(\"Do you have a CSV with image URLS to merge the results with? Y/N\")\n",
    "    if(csv_check=='Y'): \n",
    "        csv_file = input(\"What is the name of the CSV file? \")\n",
    "        col = input('What is the column name of image URLs? ')\n",
    "    \n",
    "    model_name = input(\"What model are you evaluating? (1) Superstructure (2) Interface (3) Presence of door \")\n",
    "\n",
    "    #load selected model\n",
    "    if int(model_name) == 1:\n",
    "        model = TFModel(model_dir=os.path.join(ROOT,'models','structure'))\n",
    "    elif int(model_name) == 2:\n",
    "        model = TFModel(model_dir=os.path.join(ROOT,'models','slab'))\n",
    "    elif int(model_name) == 3:\n",
    "        model = TFModel(model_dir=os.path.join(ROOT,'models','door'))\n",
    "    else:\n",
    "        print('Invalid model')\n",
    "        sys.exit()\n",
    "    model.load()\n",
    "\n",
    "    images = os.listdir(os.path.join(ROOT,'images',image_dir))\n",
    "    results = pd.DataFrame()\n",
    "    #run model and append results to dataframe\n",
    "    for image in images:\n",
    "        output = run_model(os.path.join(ROOT,'images',image_dir, image))\n",
    "        result = pd.DataFrame(output['predictions']).set_index('label').T\n",
    "        result['image'] = image\n",
    "        results = results.append(result)\n",
    "    results.reset_index(drop=True, inplace=True)\n",
    "    \n",
    "    cols = results.columns[:-1]\n",
    "    results['max_conf'] = results[cols].max(axis=1)\n",
    "    results['doubt'] = (results.loc[:, cols] > .25).sum(axis=1)\n",
    "    results['accuracy'] = pd.cut(results.max_conf, bins=[0,.5,.85,.95,1], labels=['V Low', 'Low', 'Med', 'High'])\n",
    "    results['model_output'] = results[cols].idxmax(axis=1)\n",
    "\n",
    "    #If user gives csv, merge with results, else return a csv of just the results\n",
    "    if(csv_check =='Y'):\n",
    "        data = pd.read_csv(os.path.join(ROOT,'csv',csv_file),index_col='uuid')\n",
    "        data['image'] = data[col].str[-17:]\n",
    "        data = data.merge(results, how='left', on='image')\n",
    "    else:\n",
    "        data = results\n",
    "    \n",
    "    #output to CSV\n",
    "    fname = 'output-' + time.strftime('%d%m%Y-%H%M') + '.csv'\n",
    "    data.to_csv(os.path.join(ROOT,'outputs',fname))\n",
    "    print('Saved ' + fname)"
   ]
  },
  {
   "cell_type": "markdown",
   "id": "ea297252",
   "metadata": {},
   "source": [
    "## run_model Function\n",
    "Definition of run_model function, used to open the image and run the model. It returns a dictionary with 'predictions' as the key and the value is a list containing a dictionary per output label containing keys 'label' and 'confidence'. CLEAN THIS DESCRIPTION UP"
   ]
  },
  {
   "cell_type": "code",
   "execution_count": null,
   "id": "5b9548e1",
   "metadata": {},
   "outputs": [],
   "source": [
    "#function to open image and run model\n",
    "#returns nested objects:\n",
    "#single item dict w key 'predictions' and value:\n",
    "#   list containing one dict per output label containing keys:\n",
    "#       label, confidence\n",
    "def run_model(image):\n",
    "    if os.path.isfile(image):\n",
    "        image = Image.open(image)\n",
    "        outputs = model.predict(image)\n",
    "        print(f\"Predicted: {outputs}\")\n",
    "        return outputs\n",
    "    else:\n",
    "        print(f\"Couldn't find image file {image}\")"
   ]
  },
  {
   "cell_type": "markdown",
   "id": "04ee4cf3",
   "metadata": {},
   "source": [
    "## Main Script\n",
    "First it gets input from the user, asking for the subfolder where the images are stored (if used in tandem with the image downloader, this is where those images were downloaded to). Then, it asks if you have a CSV file (like the kind used for the image_downloader script), with the column name for the column containing image URLS, to which the results of the model will be appended. If not, the CSV that will be created will just contain the results of running the model (the image, the max confidence, the doubt, the accuracy, and the model output). Finally, the user is prompted to type 1, 2 or 3, to choose which model. 1 corresponds to the 'superstructure' model, 2 to 'Interfac'e, and 3 to 'Presence of door'. More information can befound in the learning brief for this project. "
   ]
  }
 ],
 "metadata": {
  "kernelspec": {
   "display_name": "Python 3 (ipykernel)",
   "language": "python",
   "name": "python3"
  },
  "language_info": {
   "codemirror_mode": {
    "name": "ipython",
    "version": 3
   },
   "file_extension": ".py",
   "mimetype": "text/x-python",
   "name": "python",
   "nbconvert_exporter": "python",
   "pygments_lexer": "ipython3",
   "version": "3.9.7"
  }
 },
 "nbformat": 4,
 "nbformat_minor": 5
}
